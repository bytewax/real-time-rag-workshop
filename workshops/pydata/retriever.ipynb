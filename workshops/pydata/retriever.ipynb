{
 "cells": [
  {
   "cell_type": "code",
   "execution_count": 22,
   "metadata": {},
   "outputs": [],
   "source": [
    "from haystack_integrations.document_stores.elasticsearch import ElasticsearchDocumentStore\n",
    "from haystack import Pipeline\n",
    "from haystack.components.embedders import OpenAITextEmbedder\n",
    "from haystack_integrations.components.retrievers.elasticsearch import ElasticsearchEmbeddingRetriever\n",
    "from haystack.utils import Secret\n",
    "from haystack.components.builders import PromptBuilder\n",
    "from haystack.components.generators import OpenAIGenerator\n",
    "\n",
    "\n",
    "from dotenv import load_dotenv\n",
    "import os\n",
    "\n",
    "\n",
    "\n",
    "load_dotenv(\".env\")\n",
    "open_ai_key = os.environ.get(\"OPENAI_API_KEY\")\n",
    "\n",
    "document_store = ElasticsearchDocumentStore(hosts = \"http://localhost:9200\")\n",
    "\n",
    "\n",
    "retriever = ElasticsearchEmbeddingRetriever(document_store=document_store)\n",
    "text_embedder = OpenAITextEmbedder(api_key=Secret.from_token(open_ai_key))\n",
    "\n",
    "\n",
    "\n",
    "template = \"\"\"\n",
    "Given the following information, analyze the information and generate a brief summary that addresses the question, \n",
    "at the end of your summary, ensure that you list the URLs of the documents that are relevant to the question.\n",
    "\n",
    "Ensure that you also list the list of stock symbols that are mentioned in the documents.\n",
    "\n",
    "Context:\n",
    "Context:\n",
    "{% for doc in documents %}\n",
    "    Document: {{ doc.content }} \n",
    "    Headline: {{ doc.meta['headline'] }}  \n",
    "    Summary {{doc.meta['summary']}} \n",
    "    Stock symbols {{doc.meta['symbols']}}\n",
    "    URLs {{doc.meta['url']}}\n",
    "    \\n\n",
    "{% endfor %};\n",
    "\n",
    "Question: {{question}}\n",
    "Answer:\n",
    "\"\"\"\n",
    "\n",
    "prompt_builder = PromptBuilder(template=template)\n",
    "generator = OpenAIGenerator(api_key=Secret.from_token(open_ai_key), model=\"gpt-3.5-turbo\")\n",
    "\n",
    "\n"
   ]
  },
  {
   "cell_type": "code",
   "execution_count": 23,
   "metadata": {},
   "outputs": [
    {
     "data": {
      "text/plain": [
       "<haystack.core.pipeline.pipeline.Pipeline object at 0x173da6810>\n",
       "🚅 Components\n",
       "  - text_embedder: OpenAITextEmbedder\n",
       "  - retriever: ElasticsearchEmbeddingRetriever\n",
       "  - prompt_builder: PromptBuilder\n",
       "  - llm: OpenAIGenerator\n",
       "🛤️ Connections\n",
       "  - text_embedder.embedding -> retriever.query_embedding (List[float])\n",
       "  - retriever.documents -> prompt_builder.documents (List[Document])\n",
       "  - prompt_builder.prompt -> llm.prompt (str)"
      ]
     },
     "execution_count": 23,
     "metadata": {},
     "output_type": "execute_result"
    }
   ],
   "source": [
    "query_pipeline = Pipeline()\n",
    "query_pipeline.add_component(\"text_embedder\", text_embedder)\n",
    "query_pipeline.add_component(\"retriever\", retriever)\n",
    "query_pipeline.add_component(\"prompt_builder\", prompt_builder)\n",
    "query_pipeline.add_component(\"llm\", generator)\n",
    "\n",
    "query_pipeline.connect(\"text_embedder.embedding\", \"retriever.query_embedding\")\n",
    "query_pipeline.connect(\"retriever\", \"prompt_builder.documents\")\n",
    "query_pipeline.connect(\"prompt_builder\", \"llm\")\n",
    "\n",
    "\n"
   ]
  },
  {
   "cell_type": "code",
   "execution_count": 27,
   "metadata": {},
   "outputs": [],
   "source": [
    "from IPython.display import display, Markdown, Latex\n",
    "\n",
    "result = query_pipeline.run({\"text_embedder\": {\"text\": \"How was stock impacted by the actions of Elon Musk\"}})\n",
    "\n",
    "\n",
    "display(Markdown(result['llm']['replies'][0]))\n"
   ]
  },
  {
   "cell_type": "code",
   "execution_count": null,
   "metadata": {},
   "outputs": [],
   "source": []
  }
 ],
 "metadata": {
  "kernelspec": {
   "display_name": "msflow",
   "language": "python",
   "name": "python3"
  },
  "language_info": {
   "codemirror_mode": {
    "name": "ipython",
    "version": 3
   },
   "file_extension": ".py",
   "mimetype": "text/x-python",
   "name": "python",
   "nbconvert_exporter": "python",
   "pygments_lexer": "ipython3",
   "version": "3.11.8"
  }
 },
 "nbformat": 4,
 "nbformat_minor": 2
}
