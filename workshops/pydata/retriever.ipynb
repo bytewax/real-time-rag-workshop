{
 "cells": [
  {
   "cell_type": "code",
   "execution_count": 22,
   "metadata": {},
   "outputs": [],
   "source": [
    "from haystack_integrations.document_stores.elasticsearch import ElasticsearchDocumentStore\n",
    "from haystack import Pipeline\n",
    "from haystack.components.embedders import OpenAITextEmbedder\n",
    "from haystack_integrations.components.retrievers.elasticsearch import ElasticsearchEmbeddingRetriever\n",
    "from haystack.utils import Secret\n",
    "from haystack.components.builders import PromptBuilder\n",
    "from haystack.components.generators import OpenAIGenerator\n",
    "\n",
    "\n",
    "from dotenv import load_dotenv\n",
    "import os\n",
    "\n",
    "\n",
    "\n",
    "load_dotenv(\".env\")\n",
    "open_ai_key = os.environ.get(\"OPENAI_API_KEY\")\n",
    "\n",
    "document_store = ElasticsearchDocumentStore(hosts = \"http://localhost:9200\")\n",
    "\n",
    "\n",
    "retriever = ElasticsearchEmbeddingRetriever(document_store=document_store)\n",
    "text_embedder = OpenAITextEmbedder(api_key=Secret.from_token(open_ai_key))\n",
    "\n",
    "\n",
    "\n",
    "template = \"\"\"\n",
    "Given the following information, analyze the information and generate a brief summary that addresses the question, \n",
    "at the end of your summary, ensure that you list the URLs of the documents that are relevant to the question.\n",
    "\n",
    "Ensure that you also list the list of stock symbols that are mentioned in the documents.\n",
    "\n",
    "Context:\n",
    "Context:\n",
    "{% for doc in documents %}\n",
    "    Document: {{ doc.content }} \n",
    "    Headline: {{ doc.meta['headline'] }}  \n",
    "    Summary {{doc.meta['summary']}} \n",
    "    Stock symbols {{doc.meta['symbols']}}\n",
    "    URLs {{doc.meta['url']}}\n",
    "    \\n\n",
    "{% endfor %};\n",
    "\n",
    "Question: {{question}}\n",
    "Answer:\n",
    "\"\"\"\n",
    "\n",
    "prompt_builder = PromptBuilder(template=template)\n",
    "generator = OpenAIGenerator(api_key=Secret.from_token(open_ai_key), model=\"gpt-3.5-turbo\")\n",
    "\n",
    "\n"
   ]
  },
  {
   "cell_type": "code",
   "execution_count": 23,
   "metadata": {},
   "outputs": [
    {
     "data": {
      "text/plain": [
       "<haystack.core.pipeline.pipeline.Pipeline object at 0x173da6810>\n",
       "🚅 Components\n",
       "  - text_embedder: OpenAITextEmbedder\n",
       "  - retriever: ElasticsearchEmbeddingRetriever\n",
       "  - prompt_builder: PromptBuilder\n",
       "  - llm: OpenAIGenerator\n",
       "🛤️ Connections\n",
       "  - text_embedder.embedding -> retriever.query_embedding (List[float])\n",
       "  - retriever.documents -> prompt_builder.documents (List[Document])\n",
       "  - prompt_builder.prompt -> llm.prompt (str)"
      ]
     },
     "execution_count": 23,
     "metadata": {},
     "output_type": "execute_result"
    }
   ],
   "source": [
    "query_pipeline = Pipeline()\n",
    "query_pipeline.add_component(\"text_embedder\", text_embedder)\n",
    "query_pipeline.add_component(\"retriever\", retriever)\n",
    "query_pipeline.add_component(\"prompt_builder\", prompt_builder)\n",
    "query_pipeline.add_component(\"llm\", generator)\n",
    "\n",
    "query_pipeline.connect(\"text_embedder.embedding\", \"retriever.query_embedding\")\n",
    "query_pipeline.connect(\"retriever\", \"prompt_builder.documents\")\n",
    "query_pipeline.connect(\"prompt_builder\", \"llm\")\n",
    "\n",
    "\n"
   ]
  },
  {
   "cell_type": "code",
   "execution_count": 27,
   "metadata": {},
   "outputs": [
    {
     "data": {
      "text/markdown": [
       "In recent news, Elon Musk, the CEO of Tesla Inc., has been involved in a series of events related to his compensation package and his relationship with President Joe Biden. Musk responded to claims made by the California Public Employees’ Retirement System CEO regarding his compensation package, expressing disagreement with the decision to vote against it. This development follows a $56 billion pay package that was overturned by a Delaware court, causing volatility in Tesla's stock and the need for a shareholder vote to reinstate it. Additionally, Musk criticized President Biden for prioritizing Tesla's unionization over its environmental impact, leading to tension between the two. Despite not endorsing Donald Trump in the 2024 election, Musk is considering an advisory role for Trump if he is re-elected. This relationship between Musk and Trump signals a potential pivot in their dynamics. On the financial front, Nvidia's stock surged following a funding announcement from Musk's xAI startup. The company saw a significant increase in its stock price, reflecting the positive impact of the funding news. Soft treasury auctions have influenced the stock market, along with a drop in Bitcoin related to Mt. Gox. Lastly, various consumer discretionary stocks experienced both gains and losses in the after-market session, showcasing market volatility.\n",
       "\n",
       "Stock Symbols: ['TSLA', 'NVDA', 'BTCUSD', 'AEO', 'ATER', 'CLEU', 'FFIE', 'GDHG', 'GSUN', 'LOT', 'RRGB', 'SPGC', 'TCS', 'TRNR', 'ZAPP']\n",
       "\n",
       "URLs:\n",
       "1. Elon Musk Fires Back At CalPERS CEO Over Compensation Package Vote: 'What She's Saying Makes No Sense' - https://www.benzinga.com/markets/equities/24/05/39065282/elon-musk-fires-back-at-calpers-ceo-over-compensation-package-vote-what-shes-saying-makes-no-sen\n",
       "2. Elon Musk Slams Joe Biden, Says President 'Cares A Lot More About Whether Tesla Is Unionized' Over EV Maker's Environmental Impact - https://www.benzinga.com/markets/equities/24/05/39063828/elon-musk-slams-joe-biden-says-president-cares-a-lot-more-about-whether-tesla-is-unionized-over-\n",
       "3. Bitcoin Spot ETFs Hit Record $14.9B Year-To-Date Inflows On Tuesday; New Poll Shows Biden 'Vulnerable' In 2024 Presidential Race - Top Headlines Today While US Slept - https://www.benzinga.com/news/24/05/39064071/bitcoin-spot-etfs-hit-record-14-9b-year-to-date-inflows-on-tuesday-new-poll-shows-biden-vulnerable-i\n",
       "4. Nvidia's Stock Jumps 7% Past $1,100 With A Boost From Elon Musk As AI Technology Continues To Drive Market Trends - https://www.benzinga.com/24/05/39072255/nvidias-stock-jumps-7-past-1-100-with-a-boost-from-elon-musk-as-ai-technology-continues-to-drive-mar\n",
       "5. Elon Musk In The White House? Tesla CEO Could Land Advisory Role For Donald Trump: Report - https://www.benzinga.com/general/politics/24/05/39070289/elon-musk-in-the-white-house-tesla-ceo-could-land-advisory-role-for-donald-trump-report\n",
       "6. Soft Treasury Auctions Are Hitting The Stock Market, Mt. Gox Related Drop In Bitcoin - https://www.benzinga.com/markets/24/05/39065918/soft-treasury-auctions-are-hitting-the-stock-market-mt-gox-related-drop-in-bitcoin\n",
       "7. 12 Consumer Discretionary Stocks Moving In Wednesday's After-Market Session - https://www.benzinga.com/insights/movers/24/05/39074036/12-consumer-discretionary-stocks-moving-in-wednesdays-after-market-session"
      ],
      "text/plain": [
       "<IPython.core.display.Markdown object>"
      ]
     },
     "metadata": {},
     "output_type": "display_data"
    }
   ],
   "source": [
    "from IPython.display import display, Markdown, Latex\n",
    "\n",
    "result = query_pipeline.run({\"text_embedder\": {\"text\": \"How was stock impacted by the actions of Elon Musk\"}})\n",
    "\n",
    "\n",
    "display(Markdown(result['llm']['replies'][0]))\n"
   ]
  },
  {
   "cell_type": "code",
   "execution_count": null,
   "metadata": {},
   "outputs": [],
   "source": []
  }
 ],
 "metadata": {
  "kernelspec": {
   "display_name": "msflow",
   "language": "python",
   "name": "python3"
  },
  "language_info": {
   "codemirror_mode": {
    "name": "ipython",
    "version": 3
   },
   "file_extension": ".py",
   "mimetype": "text/x-python",
   "name": "python",
   "nbconvert_exporter": "python",
   "pygments_lexer": "ipython3",
   "version": "3.11.8"
  }
 },
 "nbformat": 4,
 "nbformat_minor": 2
}
