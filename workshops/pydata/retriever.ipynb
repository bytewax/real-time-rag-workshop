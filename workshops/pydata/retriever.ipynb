{
 "cells": [
  {
   "cell_type": "code",
   "execution_count": 17,
   "metadata": {},
   "outputs": [],
   "source": [
    "from haystack_integrations.document_stores.elasticsearch import ElasticsearchDocumentStore\n",
    "from haystack import Pipeline\n",
    "from haystack.components.embedders import OpenAITextEmbedder\n",
    "from haystack_integrations.components.retrievers.elasticsearch import ElasticsearchEmbeddingRetriever\n",
    "from haystack.utils import Secret\n",
    "from haystack.components.builders import PromptBuilder\n",
    "from haystack.components.generators import OpenAIGenerator\n",
    "\n",
    "\n",
    "from dotenv import load_dotenv\n",
    "import os\n",
    "\n",
    "\n",
    "\n",
    "load_dotenv(\".env\")\n",
    "open_ai_key = os.environ.get(\"OPENAI_API_KEY\")\n",
    "\n",
    "document_store = ElasticsearchDocumentStore(hosts = \"http://localhost:9200\")\n",
    "\n",
    "\n",
    "retriever = ElasticsearchEmbeddingRetriever(document_store=document_store)\n",
    "text_embedder = OpenAITextEmbedder(api_key=Secret.from_token(open_ai_key))\n",
    "\n",
    "\n",
    "\n",
    "template = \"\"\"\n",
    "Given the following information, analyze the information and generate a summary that addresses the question, \n",
    "at the end of your summary, ensure that you list the URLs of the documents that are relevant to the question.\n",
    "\n",
    "Context:\n",
    "Context:\n",
    "{% for doc in documents %}\n",
    "    Document: {{ doc.content }} \n",
    "    Headline: {{ doc.meta['headline'] }}  \n",
    "    Summary {{doc.meta['summary']}} \n",
    "    Stock symbols {{doc.meta['symbols']}}\n",
    "    URLs {{doc.meta['url']}}\n",
    "    \\n\n",
    "{% endfor %};\n",
    "\n",
    "Question: {{question}}\n",
    "Answer:\n",
    "\"\"\"\n",
    "\n",
    "prompt_builder = PromptBuilder(template=template)\n",
    "generator = OpenAIGenerator(api_key=Secret.from_token(open_ai_key), model=\"gpt-3.5-turbo\")\n",
    "\n",
    "\n"
   ]
  },
  {
   "cell_type": "code",
   "execution_count": 18,
   "metadata": {},
   "outputs": [
    {
     "data": {
      "text/plain": [
       "<haystack.core.pipeline.pipeline.Pipeline object at 0x16c174890>\n",
       "🚅 Components\n",
       "  - text_embedder: OpenAITextEmbedder\n",
       "  - retriever: ElasticsearchEmbeddingRetriever\n",
       "  - prompt_builder: PromptBuilder\n",
       "  - llm: OpenAIGenerator\n",
       "🛤️ Connections\n",
       "  - text_embedder.embedding -> retriever.query_embedding (List[float])\n",
       "  - retriever.documents -> prompt_builder.documents (List[Document])\n",
       "  - prompt_builder.prompt -> llm.prompt (str)"
      ]
     },
     "execution_count": 18,
     "metadata": {},
     "output_type": "execute_result"
    }
   ],
   "source": [
    "query_pipeline = Pipeline()\n",
    "query_pipeline.add_component(\"text_embedder\", text_embedder)\n",
    "query_pipeline.add_component(\"retriever\", retriever)\n",
    "query_pipeline.add_component(\"prompt_builder\", prompt_builder)\n",
    "query_pipeline.add_component(\"llm\", generator)\n",
    "\n",
    "query_pipeline.connect(\"text_embedder.embedding\", \"retriever.query_embedding\")\n",
    "query_pipeline.connect(\"retriever\", \"prompt_builder.documents\")\n",
    "query_pipeline.connect(\"prompt_builder\", \"llm\")\n",
    "\n",
    "\n"
   ]
  },
  {
   "cell_type": "code",
   "execution_count": 19,
   "metadata": {},
   "outputs": [
    {
     "name": "stdout",
     "output_type": "stream",
     "text": [
      "{'text_embedder': {'meta': {'model': 'text-embedding-ada-002', 'usage': {'prompt_tokens': 10, 'total_tokens': 10}}}, 'llm': {'replies': [\"In recent developments, Elon Musk, CEO of Tesla Inc., has been engaged in a public dispute with California Public Employees’ Retirement System (CalPERS) CEO Marcie Frost over his compensation package. This conflict arose after Frost announced her intention to vote against Musk’s compensation package, despite the contractual milestones being met. This issue comes amidst a series of events involving a Delaware court overturning a $56 billion pay package for Musk, which Tesla’s board is attempting to reinstate through a shareholder vote. Additionally, Musk has criticized President Joe Biden for prioritizing Tesla's unionization over environmental contributions, highlighting escalating tensions between Tesla and the Biden administration. Furthermore, reports suggest that Elon Musk could potentially land an advisory role for former President Donald Trump if re-elected in 2024, indicating a possible shift in political alliances. The market has also been impacted by soft Treasury auctions and a drop in Bitcoin due to Mt. Gox-related concerns. Lastly, several consumer discretionary stocks witnessed significant movements in their stock prices during after-market sessions, reflecting ongoing market dynamics.\\n\\nURLs:\\n1. https://www.benzinga.com/markets/equities/24/05/39065282/elon-musk-fires-back-at-calpers-ceo-over-compensation-package-vote-what-shes-saying-makes-no-sen\\n2. https://www.benzinga.com/markets/equities/24/05/39063828/elon-musk-slams-joe-biden-says-president-cares-a-lot-more-about-whether-tesla-is-unionized-over-\\n3. https://www.benzinga.com/general/politics/24/05/39070289/elon-musk-in-the-white-house-tesla-ceo-could-land-advisory-role-for-donald-trump-report\\n4. https://www.benzinga.com/news/24/05/39064071/bitcoin-spot-etfs-hit-record-14-9b-year-to-date-inflows-on-tuesday-new-poll-shows-biden-vulnerable-i\\n5. https://www.benzinga.com/24/05/39072255/nvidias-stock-jumps-7-past-1-100-with-a-boost-from-elon-musk-as-ai-technology-continues-to-drive-ma\\n6. https://www.benzinga.com/markets/24/05/39065918/soft-treasury-auctions-are-hitting-the-stock-market-mt-gox-related-drop-in-bitcoin\\n7. https://www.benzinga.com/insights/movers/24/05/39074036/12-consumer-discretionary-stocks-moving-in-wednesdays-after-market-session\"], 'meta': [{'model': 'gpt-3.5-turbo-0125', 'index': 0, 'finish_reason': 'stop', 'usage': {'completion_tokens': 558, 'prompt_tokens': 8252, 'total_tokens': 8810}}]}}\n"
     ]
    }
   ],
   "source": [
    "result = query_pipeline.run({\"text_embedder\": {\"text\": \"How was stock impacted by the actions of Elon Musk\"}})\n",
    "\n",
    "print(result)"
   ]
  },
  {
   "cell_type": "code",
   "execution_count": 21,
   "metadata": {},
   "outputs": [
    {
     "data": {
      "text/plain": [
       "\"In recent developments, Elon Musk, CEO of Tesla Inc., has been engaged in a public dispute with California Public Employees’ Retirement System (CalPERS) CEO Marcie Frost over his compensation package. This conflict arose after Frost announced her intention to vote against Musk’s compensation package, despite the contractual milestones being met. This issue comes amidst a series of events involving a Delaware court overturning a $56 billion pay package for Musk, which Tesla’s board is attempting to reinstate through a shareholder vote. Additionally, Musk has criticized President Joe Biden for prioritizing Tesla's unionization over environmental contributions, highlighting escalating tensions between Tesla and the Biden administration. Furthermore, reports suggest that Elon Musk could potentially land an advisory role for former President Donald Trump if re-elected in 2024, indicating a possible shift in political alliances. The market has also been impacted by soft Treasury auctions and a drop in Bitcoin due to Mt. Gox-related concerns. Lastly, several consumer discretionary stocks witnessed significant movements in their stock prices during after-market sessions, reflecting ongoing market dynamics.\\n\\nURLs:\\n1. https://www.benzinga.com/markets/equities/24/05/39065282/elon-musk-fires-back-at-calpers-ceo-over-compensation-package-vote-what-shes-saying-makes-no-sen\\n2. https://www.benzinga.com/markets/equities/24/05/39063828/elon-musk-slams-joe-biden-says-president-cares-a-lot-more-about-whether-tesla-is-unionized-over-\\n3. https://www.benzinga.com/general/politics/24/05/39070289/elon-musk-in-the-white-house-tesla-ceo-could-land-advisory-role-for-donald-trump-report\\n4. https://www.benzinga.com/news/24/05/39064071/bitcoin-spot-etfs-hit-record-14-9b-year-to-date-inflows-on-tuesday-new-poll-shows-biden-vulnerable-i\\n5. https://www.benzinga.com/24/05/39072255/nvidias-stock-jumps-7-past-1-100-with-a-boost-from-elon-musk-as-ai-technology-continues-to-drive-ma\\n6. https://www.benzinga.com/markets/24/05/39065918/soft-treasury-auctions-are-hitting-the-stock-market-mt-gox-related-drop-in-bitcoin\\n7. https://www.benzinga.com/insights/movers/24/05/39074036/12-consumer-discretionary-stocks-moving-in-wednesdays-after-market-session\""
      ]
     },
     "execution_count": 21,
     "metadata": {},
     "output_type": "execute_result"
    }
   ],
   "source": [
    "result['llm']['replies'][0]"
   ]
  },
  {
   "cell_type": "code",
   "execution_count": null,
   "metadata": {},
   "outputs": [],
   "source": []
  }
 ],
 "metadata": {
  "kernelspec": {
   "display_name": "msflow",
   "language": "python",
   "name": "python3"
  },
  "language_info": {
   "codemirror_mode": {
    "name": "ipython",
    "version": 3
   },
   "file_extension": ".py",
   "mimetype": "text/x-python",
   "name": "python",
   "nbconvert_exporter": "python",
   "pygments_lexer": "ipython3",
   "version": "3.11.8"
  }
 },
 "nbformat": 4,
 "nbformat_minor": 2
}
