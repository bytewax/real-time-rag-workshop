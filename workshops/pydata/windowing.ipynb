{
 "cells": [
  {
   "cell_type": "code",
   "execution_count": 4,
   "metadata": {},
   "outputs": [],
   "source": [
    "from bytewax.operators.windowing import EventClock, TumblingWindower\n",
    "\n",
    "from datetime import datetime, timedelta, timezone\n",
    "from pathlib import Path\n",
    "\n",
    "import bytewax.operators as op\n",
    "import pandas as pd\n",
    "from bytewax.connectors.files import FileSource\n",
    "from bytewax.connectors.stdio import StdOutSink\n",
    "from bytewax.dataflow import Dataflow\n",
    "from bytewax.operators import windowing as wop\n",
    "from bytewax.operators.windowing import EventClock, TumblingWindower\n"
   ]
  },
  {
   "cell_type": "code",
   "execution_count": 2,
   "metadata": {},
   "outputs": [],
   "source": [
    "import json\n",
    "import os\n",
    "\n",
    "import re\n",
    "from bs4 import BeautifulSoup\n",
    "from pathlib import Path\n",
    "\n",
    "import logging\n",
    "\n",
    "\n",
    "logging.basicConfig(level=logging.INFO)\n",
    "logger = logging.getLogger(__name__)"
   ]
  },
  {
   "cell_type": "code",
   "execution_count": 3,
   "metadata": {},
   "outputs": [],
   "source": [
    "def safe_deserialize(data):\n",
    "        \"\"\"\n",
    "        Safely deserialize JSON data, handling various formats.\n",
    "        \n",
    "        :param data: JSON data to deserialize.\n",
    "        :return: Deserialized data or None if an error occurs.\n",
    "        \"\"\"\n",
    "        try:\n",
    "            parsed_data = json.loads(data)\n",
    "            if isinstance(parsed_data, list):\n",
    "                if len(parsed_data) == 2 and (parsed_data[0] is None or isinstance(parsed_data[0], str)):\n",
    "                    event = parsed_data[1]\n",
    "                else:\n",
    "                    logger.info(f\"Skipping unexpected list format: {data}\")\n",
    "                    return None\n",
    "            elif isinstance(parsed_data, dict):\n",
    "                event = parsed_data\n",
    "            else:\n",
    "                logger.info(f\"Skipping unexpected data type: {data}\")\n",
    "                return None\n",
    "            \n",
    "            if 'link' in event:\n",
    "                event['url'] = event.pop('link')\n",
    "            \n",
    "            if \"url\" in event:\n",
    "                return event\n",
    "            else:\n",
    "                logger.info(f\"Missing 'url' key in data: {data}\")\n",
    "                return None\n",
    "\n",
    "        except json.JSONDecodeError as e:\n",
    "            logger.error(f\"JSON decode error ({e}) for data: {data}\")\n",
    "            return None\n",
    "        except Exception as e:\n",
    "            logger.error(f\"Error processing data ({e}): {data}\")\n",
    "            return None"
   ]
  },
  {
   "cell_type": "code",
   "execution_count": 6,
   "metadata": {},
   "outputs": [],
   "source": [
    "flow = Dataflow(\"rag-pipeline\")\n",
    "input_data = op.input(\"input\", flow, FileSource(\"data/news_out.jsonl\"))\n",
    "deserialize_data = op.map(\"deserialize\", input_data, safe_deserialize)\n",
    "op.output(\"output\", deserialize_data, StdOutSink())"
   ]
  },
  {
   "cell_type": "code",
   "execution_count": 7,
   "metadata": {},
   "outputs": [],
   "source": [
    "import datetime\n"
   ]
  },
  {
   "cell_type": "code",
   "execution_count": 11,
   "metadata": {},
   "outputs": [
    {
     "name": "stdout",
     "output_type": "stream",
     "text": [
      "Help on built-in function strptime:\n",
      "\n",
      "strptime(...) class method of datetime.datetime\n",
      "    string, format -> new datetime parsed from a string (like time.strptime()).\n",
      "\n"
     ]
    }
   ],
   "source": [
    "help(datetime.datetime.strptime)"
   ]
  },
  {
   "cell_type": "code",
   "execution_count": 35,
   "metadata": {},
   "outputs": [],
   "source": [
    "import time\n",
    "\n",
    "new_time = re.sub(\"T\", \" \", \"2024-05-29T21:43:12Z\")\n",
    "new_time2 = re.sub(r\":*Z\", \"\",new_time)\n",
    "\n",
    "\n",
    "time_ = time.strptime(new_time2,\"%Y-%m-%d %H:%M:%S\")"
   ]
  },
  {
   "cell_type": "code",
   "execution_count": 36,
   "metadata": {},
   "outputs": [],
   "source": [
    "from datetime import datetime"
   ]
  },
  {
   "cell_type": "code",
   "execution_count": 47,
   "metadata": {},
   "outputs": [],
   "source": [
    "var = datetime(time_.tm_year, \n",
    "               time_.tm_mon, \n",
    "               time_.tm_mday, \n",
    "               time_.tm_hour, \n",
    "               time_.tm_min,\n",
    "               time_.tm_sec)"
   ]
  },
  {
   "cell_type": "code",
   "execution_count": 49,
   "metadata": {},
   "outputs": [
    {
     "data": {
      "text/plain": [
       "datetime.datetime(2024, 5, 29, 21, 43, 11)"
      ]
     },
     "execution_count": 49,
     "metadata": {},
     "output_type": "execute_result"
    }
   ],
   "source": [
    "var - timedelta(seconds=1)"
   ]
  },
  {
   "cell_type": "code",
   "execution_count": 53,
   "metadata": {},
   "outputs": [],
   "source": [
    "tup = tuple([1,2])"
   ]
  },
  {
   "cell_type": "code",
   "execution_count": 56,
   "metadata": {},
   "outputs": [
    {
     "data": {
      "text/plain": [
       "2"
      ]
     },
     "execution_count": 56,
     "metadata": {},
     "output_type": "execute_result"
    }
   ],
   "source": [
    "tup[1]"
   ]
  },
  {
   "cell_type": "code",
   "execution_count": 59,
   "metadata": {},
   "outputs": [],
   "source": [
    "dict_a = {\"a\":[1]}\n"
   ]
  },
  {
   "cell_type": "code",
   "execution_count": 62,
   "metadata": {},
   "outputs": [
    {
     "ename": "ValueError",
     "evalue": "dictionary update sequence element #0 has length 1; 2 is required",
     "output_type": "error",
     "traceback": [
      "\u001b[0;31m---------------------------------------------------------------------------\u001b[0m",
      "\u001b[0;31mValueError\u001b[0m                                Traceback (most recent call last)",
      "Cell \u001b[0;32mIn[62], line 1\u001b[0m\n\u001b[0;32m----> 1\u001b[0m \u001b[38;5;28;43mdict\u001b[39;49m\u001b[43m(\u001b[49m\u001b[38;5;28;43mstr\u001b[39;49m\u001b[43m(\u001b[49m\u001b[43mdict_a\u001b[49m\u001b[43m)\u001b[49m\u001b[43m)\u001b[49m\n",
      "\u001b[0;31mValueError\u001b[0m: dictionary update sequence element #0 has length 1; 2 is required"
     ]
    }
   ],
   "source": [
    "dict(str(dict_a))"
   ]
  },
  {
   "cell_type": "code",
   "execution_count": 68,
   "metadata": {},
   "outputs": [],
   "source": [
    "source = \"./data/news_out.jsonl\"\n",
    "\n",
    "with open(source, 'r', encoding='utf-8') as file:\n",
    "    lines = file.read()"
   ]
  },
  {
   "cell_type": "code",
   "execution_count": null,
   "metadata": {},
   "outputs": [],
   "source": [
    "('39061149', [{'created_at': datetime.datetime(2024, 5, 29, 12, 9, 22, tzinfo=datetime.timezone.utc), 'updated_at': datetime.datetime(2024, 5, 29, 12, 9, 22, tzinfo=datetime.timezone.utc), 'headline': 'ConocoPhillips To Acquire Marathon Oil In All-Stock Deal At 14.7% Premium: Details'}, \n",
    "              {'created_at': datetime.datetime(2024, 5, 29, 12, 9, 22, tzinfo=datetime.timezone.utc), 'updated_at': datetime.datetime(2024, 5, 29, 12, 9, 22, tzinfo=datetime.timezone.utc), 'headline': 'ConocoPhillips To Acquire Marathon Oil In All-Stock Deal At 14.7% Premium: Details'}])"
   ]
  },
  {
   "cell_type": "code",
   "execution_count": null,
   "metadata": {},
   "outputs": [],
   "source": [
    "# Updates done within 60 seconds\n",
    "('39064476', [{'created_at': datetime.datetime(2024, 5, 29, 13, 56, 5, tzinfo=datetime.timezone.utc), 'updated_at': datetime.datetime(2024, 5, 29, 13, 56, 6, tzinfo=datetime.timezone.utc), 'headline': 'Exxon Says About 20 Workers On Strike At Petchem Plant At Gravenchon In France Until Thursday, Too Early To Assess Impact'}, \n",
    "              {'created_at': datetime.datetime(2024, 5, 29, 13, 56, 5, tzinfo=datetime.timezone.utc), 'updated_at': datetime.datetime(2024, 5, 29, 13, 56, 32, tzinfo=datetime.timezone.utc), 'headline': 'Exxon Says About 20 Workers On Strike At Petchem Plant At Gravenchon In France Until Thursday, Too Early To Assess Impact; Refining Unaffected, Only Concerns Polypropylene, Polyethylene Production'}])\n",
    "\n",
    "\n",
    "\n",
    "('39065942', [{'created_at': datetime.datetime(2024, 5, 29, 14, 44, 22, tzinfo=datetime.timezone.utc), 'updated_at': datetime.datetime(2024, 5, 29, 14, 44, 22, tzinfo=datetime.timezone.utc), 'headline': 'Innovative Eyewear shares are trading higher after the company launched its Eddie Bauer Smart Eyewear collection.'}, \n",
    "              {'created_at': datetime.datetime(2024, 5, 29, 14, 44, 22, tzinfo=datetime.timezone.utc), 'updated_at': datetime.datetime(2024, 5, 29, 14, 44, 35, tzinfo=datetime.timezone.utc), 'headline': 'Innovative Eyewear shares are trading higher after the company launched its Eddie Bauer Smart Eyewear collection.'}])\n",
    "\n",
    "\n",
    "('39068531', [{'created_at': datetime.datetime(2024, 5, 29, 16, 12, 43, tzinfo=datetime.timezone.utc), 'updated_at': datetime.datetime(2024, 5, 29, 16, 14, 9, tzinfo=datetime.timezone.utc), 'headline': 'Box Reports AI-Driven Beat, 2 Analysts Dive Into Q1 Results: &#39;Revenue, Bookings Guidance Lower Due Currency Headwinds&#39;'}, \n",
    "              {'created_at': datetime.datetime(2024, 5, 29, 16, 12, 43, tzinfo=datetime.timezone.utc), 'updated_at': datetime.datetime(2024, 5, 29, 16, 14, 36, tzinfo=datetime.timezone.utc), 'headline': 'Box Reports AI-Driven Beat, 2 Analysts Dive Into Q1 Results: &#39;Revenue, Bookings Guidance Lower Due To Currency Headwinds&#39;'}])\n",
    "\n",
    "('39070013', [{'created_at': datetime.datetime(2024, 5, 29, 17, 20, 23, tzinfo=datetime.timezone.utc), 'updated_at': datetime.datetime(2024, 5, 29, 17, 20, 24, tzinfo=datetime.timezone.utc), 'headline': 'Cava Group In The Sweet Spot? CEO Sees Consumers Trading Down From Casual Dining, Trading Up From Fast Food: &#39;We Don&#39;t Think It&#39;s An Either Or&#39;'}, \n",
    "              {'created_at': datetime.datetime(2024, 5, 29, 17, 20, 8, tzinfo=datetime.timezone.utc), 'updated_at': datetime.datetime(2024, 5, 29, 17, 20, 53, tzinfo=datetime.timezone.utc), 'headline': 'Cava Group In The Sweet Spot? CEO Sees Consumers Trading Down From Casual Dining, Trading Up From Fast Food: &#39;We Don&#39;t Think It&#39;s An Either Or&#39;'}])\n",
    "\n",
    "('39072255', [{'created_at': datetime.datetime(2024, 5, 29, 19, 30, 3, tzinfo=datetime.timezone.utc), 'updated_at': datetime.datetime(2024, 5, 29, 19, 30, 3, tzinfo=datetime.timezone.utc), 'headline': 'Nvidia&#39;s Stock Jumps 7% Past $1,100 With A Boost From Elon Musk As AI Technology Continues To Drive Market Trends'}, \n",
    "              {'created_at': datetime.datetime(2024, 5, 29, 19, 30, 3, tzinfo=datetime.timezone.utc), 'updated_at': datetime.datetime(2024, 5, 29, 19, 30, 56, tzinfo=datetime.timezone.utc), 'headline': 'Nvidia&#39;s Stock Jumps 7% Past $1,100 With A Boost From Elon Musk As AI Technology Continues To Drive Market Trends'}])\n",
    "\n",
    "('39072594', [{'created_at': datetime.datetime(2024, 5, 29, 19, 53, 4, tzinfo=datetime.timezone.utc), 'updated_at': datetime.datetime(2024, 5, 29, 19, 53, 5, tzinfo=datetime.timezone.utc), 'headline': 'Fed Beige Book Shows Modest Economic Expansion Ahead Of Key GDP, Inflation Data Release'}, \n",
    "              {'created_at': datetime.datetime(2024, 5, 29, 19, 52, 58, tzinfo=datetime.timezone.utc), 'updated_at': datetime.datetime(2024, 5, 29, 19, 53, 44, tzinfo=datetime.timezone.utc), 'headline': 'Fed Beige Book Shows Modest Economic Expansion Ahead Of Key GDP, Inflation Data Release'}])\n",
    "\n",
    "('39073515', [{'created_at': datetime.datetime(2024, 5, 29, 20, 16, 12, tzinfo=datetime.timezone.utc), 'updated_at': datetime.datetime(2024, 5, 29, 20, 16, 12, tzinfo=datetime.timezone.utc), 'headline': 'HP Q2 Adj $0.82 Beats $0.81 Estimate, Sales $12.80B Beat $12.60B Estimate'}, \n",
    "              {'created_at': datetime.datetime(2024, 5, 29, 20, 16, 12, tzinfo=datetime.timezone.utc), 'updated_at': datetime.datetime(2024, 5, 29, 20, 16, 56, tzinfo=datetime.timezone.utc), 'headline': 'HP Q2 Adj EPS $0.82 Beats $0.81 Estimate, Sales $12.80B Beat $12.60B Estimate'}])\n",
    "\n",
    "('39073809', [{'created_at': datetime.datetime(2024, 5, 29, 20, 25, 1, tzinfo=datetime.timezone.utc), 'updated_at': datetime.datetime(2024, 5, 29, 20, 25, 2, tzinfo=datetime.timezone.utc), 'headline': 'Agilent Technologies Revises Q3 EPS To $1.25-$1.28 Vs $1.45 Est.; Revenue $1.535B-$1.575B Vs $1.72B Est.; FY24 EPS $5.15-$5.25 Vs $5.50 Est.; Revenue $6.42B-$6.5B Vs $6.77B Est.'}, \n",
    "              {'created_at': datetime.datetime(2024, 5, 29, 20, 25, 1, tzinfo=datetime.timezone.utc), 'updated_at': datetime.datetime(2024, 5, 29, 20, 25, 16, tzinfo=datetime.timezone.utc), 'headline': 'Agilent Technologies Revises Q3 EPS To $1.25-$1.28 Vs $1.45 Est.; Revenue $1.535B-$1.575B Vs $1.72B Est.; FY24 EPS $5.15-$5.25 Vs $5.50 Est.; Revenue $6.42B-$6.5B Vs $6.77B Est.'}])"
   ]
  },
  {
   "cell_type": "code",
   "execution_count": null,
   "metadata": {},
   "outputs": [],
   "source": [
    "# Updates done within 20 seconds, event clock config 15 seconds\n",
    "\n",
    "('39065942', [{'created_at': datetime.datetime(2024, 5, 29, 14, 44, 22, tzinfo=datetime.timezone.utc), 'updated_at': datetime.datetime(2024, 5, 29, 14, 44, 22, tzinfo=datetime.timezone.utc), 'headline': 'Innovative Eyewear shares are trading higher after the company launched its Eddie Bauer Smart Eyewear collection.'}, \n",
    "              {'created_at': datetime.datetime(2024, 5, 29, 14, 44, 22, tzinfo=datetime.timezone.utc), 'updated_at': datetime.datetime(2024, 5, 29, 14, 44, 35, tzinfo=datetime.timezone.utc), 'headline': 'Innovative Eyewear shares are trading higher after the company launched its Eddie Bauer Smart Eyewear collection.'}])\n",
    "\n",
    "('39073809', [{'created_at': datetime.datetime(2024, 5, 29, 20, 25, 1, tzinfo=datetime.timezone.utc), 'updated_at': datetime.datetime(2024, 5, 29, 20, 25, 2, tzinfo=datetime.timezone.utc), 'headline': 'Agilent Technologies Revises Q3 EPS To $1.25-$1.28 Vs $1.45 Est.; Revenue $1.535B-$1.575B Vs $1.72B Est.; FY24 EPS $5.15-$5.25 Vs $5.50 Est.; Revenue $6.42B-$6.5B Vs $6.77B Est.'}, \n",
    "              {'created_at': datetime.datetime(2024, 5, 29, 20, 25, 1, tzinfo=datetime.timezone.utc), 'updated_at': datetime.datetime(2024, 5, 29, 20, 25, 16, tzinfo=datetime.timezone.utc), 'headline': 'Agilent Technologies Revises Q3 EPS To $1.25-$1.28 Vs $1.45 Est.; Revenue $1.535B-$1.575B Vs $1.72B Est.; FY24 EPS $5.15-$5.25 Vs $5.50 Est.; Revenue $6.42B-$6.5B Vs $6.77B Est.'}])"
   ]
  },
  {
   "cell_type": "code",
   "execution_count": null,
   "metadata": {},
   "outputs": [],
   "source": [
    "# Updates done within 19 seconds, event clock config 1 seconds\n",
    "\n",
    "('39065942', [{'created_at': datetime.datetime(2024, 5, 29, 14, 44, 22, tzinfo=datetime.timezone.utc), 'updated_at': datetime.datetime(2024, 5, 29, 14, 44, 22, tzinfo=datetime.timezone.utc), 'headline': 'Innovative Eyewear shares are trading higher after the company launched its Eddie Bauer Smart Eyewear collection.'}, \n",
    "              {'created_at': datetime.datetime(2024, 5, 29, 14, 44, 22, tzinfo=datetime.timezone.utc), 'updated_at': datetime.datetime(2024, 5, 29, 14, 44, 35, tzinfo=datetime.timezone.utc), 'headline': 'Innovative Eyewear shares are trading higher after the company launched its Eddie Bauer Smart Eyewear collection.'}])\n",
    "\n",
    "('39067211', [{'created_at': datetime.datetime(2024, 5, 29, 15, 18, 50, tzinfo=datetime.timezone.utc), 'updated_at': datetime.datetime(2024, 5, 29, 15, 18, 50, tzinfo=datetime.timezone.utc), 'headline': 'BHP Group Says Disappointed That Board Of Anglo American Has Decided Not To Continue Discussions With Bhp; Anglo American&#39;s Assertion Value Risk Under Our Proposal Would Be Exclusively For Account Of Anglo American Shareholders Is Not Accurate'}, \n",
    "              {'created_at': datetime.datetime(2024, 5, 29, 15, 18, 50, tzinfo=datetime.timezone.utc), 'updated_at': datetime.datetime(2024, 5, 29, 15, 19, 6, tzinfo=datetime.timezone.utc), 'headline': 'BHP Group Says Disappointed That Board Of Anglo American Has Decided Not To Continue Discussions With BHP; Anglo American&#39;s Assertion Value Risk Under Our Proposal Would Be Exclusively For Account Of Anglo American Shareholders Is Not Accurate'}])\n",
    "\n",
    "('39073809', [{'created_at': datetime.datetime(2024, 5, 29, 20, 25, 1, tzinfo=datetime.timezone.utc), 'updated_at': datetime.datetime(2024, 5, 29, 20, 25, 2, tzinfo=datetime.timezone.utc), 'headline': 'Agilent Technologies Revises Q3 EPS To $1.25-$1.28 Vs $1.45 Est.; Revenue $1.535B-$1.575B Vs $1.72B Est.; FY24 EPS $5.15-$5.25 Vs $5.50 Est.; Revenue $6.42B-$6.5B Vs $6.77B Est.'}, \n",
    "              {'created_at': datetime.datetime(2024, 5, 29, 20, 25, 1, tzinfo=datetime.timezone.utc), 'updated_at': datetime.datetime(2024, 5, 29, 20, 25, 16, tzinfo=datetime.timezone.utc), 'headline': 'Agilent Technologies Revises Q3 EPS To $1.25-$1.28 Vs $1.45 Est.; Revenue $1.535B-$1.575B Vs $1.72B Est.; FY24 EPS $5.15-$5.25 Vs $5.50 Est.; Revenue $6.42B-$6.5B Vs $6.77B Est.'}])"
   ]
  }
 ],
 "metadata": {
  "kernelspec": {
   "display_name": "dev",
   "language": "python",
   "name": "python3"
  },
  "language_info": {
   "codemirror_mode": {
    "name": "ipython",
    "version": 3
   },
   "file_extension": ".py",
   "mimetype": "text/x-python",
   "name": "python",
   "nbconvert_exporter": "python",
   "pygments_lexer": "ipython3",
   "version": "3.12.4"
  }
 },
 "nbformat": 4,
 "nbformat_minor": 2
}
