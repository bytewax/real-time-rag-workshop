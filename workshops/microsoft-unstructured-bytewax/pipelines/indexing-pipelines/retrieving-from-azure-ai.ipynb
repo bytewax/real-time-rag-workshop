{
 "cells": [
  {
   "cell_type": "code",
   "execution_count": 1,
   "metadata": {},
   "outputs": [],
   "source": [
    "from openai import AzureOpenAI\n",
    "from azure.core.credentials import AzureKeyCredential  \n",
    "from azure.core.credentials import AzureKeyCredential\n",
    "from azure.search.documents import SearchClient  \n",
    "\n",
    "from azure.search.documents.models import (\n",
    "    VectorizableTextQuery, \n",
    ")\n",
    "\n",
    "import os\n",
    "from dotenv import load_dotenv  \n",
    "load_dotenv(override=True)\n",
    "\n",
    "endpoint = os.getenv(\"AZURE_SEARCH_SERVICE_ENDPOINT\")\n",
    "service_name = os.getenv(\"AZURE_SEARCH_SERVICE\")\n",
    "api_key = os.getenv(\"AZURE_SEARCH_ADMIN_KEY\")\n",
    "DIMENSIONS = 1536\n",
    "AZURE_OPENAI_KEY = os.getenv('AZURE_OPENAI_API_KEY')\n",
    "AZURE_OPENAI_SERVICE = os.getenv('AZURE_OPENAI_SERVICE')\n",
    "AZURE_OPENAI_ENDPOINT = os.getenv('AZURE_OPENAI_ENDPOINT')\n",
    "\n",
    "client = AzureOpenAI(\n",
    "    api_key=AZURE_OPENAI_KEY,  \n",
    "    api_version=\"2023-10-01-preview\",\n",
    "    azure_endpoint = f\"https://{AZURE_OPENAI_SERVICE}.openai.azure.com/\"\n",
    ")\n",
    "key = os.getenv(\"AZURE_SEARCH_ADMIN_KEY\")  \n",
    "credential = AzureKeyCredential(key)\n"
   ]
  },
  {
   "cell_type": "code",
   "execution_count": 3,
   "metadata": {},
   "outputs": [
    {
     "data": {
      "text/plain": [
       "\"I'm sorry, but I cannot provide an answer to the query as the provided context does not contain any specific question or query. If you have a specific question related to the provided context, please feel free to ask and I'll be happy to help!\""
      ]
     },
     "execution_count": 3,
     "metadata": {},
     "output_type": "execute_result"
    }
   ],
   "source": [
    "\n",
    "def vector_text_search_indx(user_query:str,index_name=\"bytewax-index\", top_results = 3):  \n",
    "    query_vec = VectorizableTextQuery(text=user_query, k=3, fields=\"vector\", exhaustive=True)  \n",
    "    search_client = SearchClient(os.getenv('AZURE_SEARCH_SERVICE_ENDPOINT'), index_name, credential=credential)\n",
    "    search_results = search_client.search(      \n",
    "        search_text=None,      \n",
    "        vector_queries= [query_vec],    \n",
    "        select=[\"id\", \"meta\", \"content\"],    \n",
    "        top=top_results    \n",
    "    )    \n",
    "    output_str = ''    \n",
    "    for result in search_results:      \n",
    "        # print(f\"Parent ID: {result['parent_id']}\")      \n",
    "        # print(f\"Chunk: {result['chunk']}\")      \n",
    "        # print(f\"Score: {result['@search.score']}\")      \n",
    "        # print(f\"Title: {result['title']}\")   \n",
    "        # output_str += f\"Parent ID: {result['parent_id']}\\nChunk: {result['chunk']}\\nScore: {result['@search.score']}\\nTitle: {result['title']}\\n\\n\"  \n",
    "        output_str=f\"{result['content']}\"  \n",
    "    return output_str\n",
    "  \n",
    "def get_ans(user_query):\n",
    "    a=vector_text_search_indx(user_query,index_name='bytewax-index', top_results = 3)\n",
    "    messages=[  \n",
    "    {\"role\": \"assistant\", \"content\": \"You are an AI assistant that helps in giving answers based on the provided data.\"},  \n",
    "    {\"role\": \"user\", \"content\": 'Answer the query: {user_query} based on the below context:'+'/n'+vector_text_search_indx(user_query,index_name='bytewax-index', top_results = 3)}  \n",
    "    ] \n",
    "    response = client.chat.completions.create(\n",
    "        model=\"bytewax-workshop-gpt35\",\n",
    "        messages = messages,\n",
    "        temperature=0,\n",
    "        max_tokens=1000,\n",
    "        top_p=0.95,\n",
    "        frequency_penalty=0,\n",
    "        presence_penalty=0,\n",
    "        stop=None\n",
    "        )\n",
    "    ans=response.choices[0].message.content\n",
    "    # Print the AI-generated response\n",
    "    # print(f\"{query_results}\")\n",
    "    return ans\n",
    "\n",
    "get_ans(\"Provide a summary of the information in your database\")"
   ]
  },
  {
   "cell_type": "code",
   "execution_count": null,
   "metadata": {},
   "outputs": [],
   "source": [
    "{\"T\": \"n\", \"id\": 39063802, \"headline\": \"Piper Sandler Maintains Overweight on Virtus Inv, Raises Price Target to $267\", \"summary\": \"Piper Sandler  analyst Crispin Love   maintains Virtus Inv (NYSE:VRTS) with a Overweight and raises the price target from $265 to $267.\", \"author\": \"Benzinga Newsdesk\", \"created_at\": \"2024-05-29T13:26:51Z\", \"updated_at\": \"2024-05-29T13:26:52Z\", \"url\": \"https://www.benzinga.com/news/24/05/39063802/piper-sandler-maintains-overweight-on-virtus-inv-raises-price-target-to-267\", \"content\": \"Piper Sandler  analyst Crispin Love   maintains Virtus Inv (NYSE:<a class=\\\"ticker\\\" href=\\\"https://www.benzinga.com/stock/VRTS#NYSE\\\">VRTS</a>) with a Overweight and raises the price target from $265 to $267.\", \"symbols\": [\"VRTS\"], \"source\": \"benzinga\"}\n"
   ]
  }
 ],
 "metadata": {
  "kernelspec": {
   "display_name": "msflow",
   "language": "python",
   "name": "python3"
  },
  "language_info": {
   "codemirror_mode": {
    "name": "ipython",
    "version": 3
   },
   "file_extension": ".py",
   "mimetype": "text/x-python",
   "name": "python",
   "nbconvert_exporter": "python",
   "pygments_lexer": "ipython3",
   "version": "3.10.14"
  }
 },
 "nbformat": 4,
 "nbformat_minor": 2
}
