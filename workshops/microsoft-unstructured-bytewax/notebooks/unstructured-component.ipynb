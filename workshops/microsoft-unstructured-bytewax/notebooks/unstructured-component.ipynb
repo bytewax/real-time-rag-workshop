{
 "cells": [
  {
   "cell_type": "markdown",
   "metadata": {},
   "source": [
    "## Incorporating a custom component into a pipeline"
   ]
  },
  {
   "cell_type": "code",
   "execution_count": 1,
   "metadata": {},
   "outputs": [
    {
     "name": "stderr",
     "output_type": "stream",
     "text": [
      "/Users/macpro/anaconda3/envs/msflow/lib/python3.10/site-packages/tqdm/auto.py:21: TqdmWarning: IProgress not found. Please update jupyter and ipywidgets. See https://ipywidgets.readthedocs.io/en/stable/user_install.html\n",
      "  from .autonotebook import tqdm as notebook_tqdm\n"
     ]
    }
   ],
   "source": [
    "from unstructured_component import UnstructuredParser\n",
    "\n",
    "from haystack import Pipeline\n",
    "from haystack.components.embedders import AzureOpenAIDocumentEmbedder\n",
    "from haystack.components.preprocessors import DocumentCleaner\n",
    "from haystack.components.preprocessors import DocumentSplitter\n",
    "from haystack.components.writers import DocumentWriter\n",
    "from pathlib import Path\n",
    "from haystack.document_stores.types import DuplicatePolicy\n",
    "from haystack.utils import Secret\n",
    "from haystack_integrations.components.converters.unstructured import UnstructuredFileConverter\n",
    "from haystack.components.fetchers import LinkContentFetcher\n",
    "from haystack.components.converters import HTMLToDocument\n",
    "from haystack.document_stores.in_memory import InMemoryDocumentStore \n",
    "import os\n",
    "from dotenv import load_dotenv"
   ]
  },
  {
   "cell_type": "code",
   "execution_count": 2,
   "metadata": {},
   "outputs": [],
   "source": [
    "unstructured_api_key = os.environ.get(\"UNSTRUCTURED_API_KEY\")\n",
    "load_dotenv(\".env\")\n",
    "api_key = os.environ.get(\"news_api\")\n",
    "open_ai_key = os.environ.get(\"OPENAI_API_KEY\")\n",
    "unstructured = os.environ.get(\"UNSTRUCTURED\")\n",
    "\n",
    "AZURE_OPENAI_KEY = os.getenv('AZURE_OPENAI_API_KEY')\n",
    "AZURE_OPENAI_ENDPOINT = os.getenv('AZURE_OPENAI_ENDPOINT')\n",
    "AZURE_OPENAI_SERVICE = os.getenv('AZURE_OPENAI_SERVICE')\n",
    "AZURE_OPENAI_EMBEDDING_SERVICE= os.getenv('AZURE_OPENAI_EMBEDDING_SERVICE')"
   ]
  },
  {
   "cell_type": "code",
   "execution_count": 5,
   "metadata": {},
   "outputs": [
    {
     "data": {
      "text/plain": [
       "<haystack.core.pipeline.pipeline.Pipeline object at 0x7f82b927f2e0>\n",
       "🚅 Components\n",
       "  - unstructured: UnstructuredParser\n",
       "  - cleaner: DocumentCleaner\n",
       "  - embedder: AzureOpenAIDocumentEmbedder\n",
       "🛤️ Connections\n",
       "  - unstructured.documents -> cleaner.documents (List[Document])\n",
       "  - cleaner.documents -> embedder.documents (List[Document])"
      ]
     },
     "execution_count": 5,
     "metadata": {},
     "output_type": "execute_result"
    }
   ],
   "source": [
    "unstructured_parser = UnstructuredParser(unstructured_key=unstructured_api_key,\n",
    "                                          chunking_strategy=\"by_page\",\n",
    "                                          strategy=\"auto\",\n",
    "                                          model=\"yolox\")\n",
    "\n",
    "regex_pattern = (\n",
    "    r'<.*?>'  # HTML tags\n",
    "    r'|\\t'  # Tabs\n",
    "    r'|\\n+'  # Newlines\n",
    "    r'|&nbsp;'  # Non-breaking spaces\n",
    ")\n",
    "document_cleaner = DocumentCleaner(\n",
    "                    remove_empty_lines=True,\n",
    "                    remove_extra_whitespaces=True,\n",
    "                    remove_repeated_substrings=False,\n",
    "                    remove_substrings=None,  \n",
    "                    remove_regex=regex_pattern\n",
    "                )\n",
    "\n",
    "document_embedder = AzureOpenAIDocumentEmbedder(azure_endpoint=AZURE_OPENAI_ENDPOINT,\n",
    "                                                        api_key=Secret.from_token(AZURE_OPENAI_KEY),\n",
    "                                                        azure_deployment=AZURE_OPENAI_EMBEDDING_SERVICE) \n",
    "\n",
    "# Initialize pipeline\n",
    "pipeline = Pipeline()\n",
    "pipeline.add_component(\"unstructured\", unstructured_parser)\n",
    "pipeline.add_component(\"cleaner\", document_cleaner)\n",
    "pipeline.add_component(\"embedder\", document_embedder)\n",
    "\n",
    "pipeline.connect(\"unstructured\", \"cleaner\")\n",
    "pipeline.connect(\"cleaner\", \"embedder\")"
   ]
  },
  {
   "cell_type": "code",
   "execution_count": 9,
   "metadata": {},
   "outputs": [
    {
     "name": "stdout",
     "output_type": "stream",
     "text": [
      "Download succeeded\n"
     ]
    },
    {
     "name": "stderr",
     "output_type": "stream",
     "text": [
      "Embedding Texts:   0%|          | 0/2 [00:00<?, ?it/s]"
     ]
    },
    {
     "name": "stdout",
     "output_type": "stream",
     "text": [
      "INFO: HTTP Request: POST https://bytewax-workshop.openai.azure.com//openai/deployments/bytewax-workshop-ada/embeddings?api-version=2023-05-15 \"HTTP/1.1 200 OK\"\n"
     ]
    },
    {
     "name": "stderr",
     "output_type": "stream",
     "text": [
      "Embedding Texts:  50%|█████     | 1/2 [00:00<00:00,  2.08it/s]"
     ]
    },
    {
     "name": "stdout",
     "output_type": "stream",
     "text": [
      "INFO: HTTP Request: POST https://bytewax-workshop.openai.azure.com//openai/deployments/bytewax-workshop-ada/embeddings?api-version=2023-05-15 \"HTTP/1.1 200 OK\"\n"
     ]
    },
    {
     "name": "stderr",
     "output_type": "stream",
     "text": [
      "Embedding Texts: 100%|██████████| 2/2 [00:00<00:00,  2.90it/s]\n"
     ]
    }
   ],
   "source": [
    "result = pipeline.run({\"unstructured\": {\"sources\": [\"https://www.sec.gov/Archives/edgar/data/1511699/000114554924032499/0001145549-24-032499.txt\"]}})"
   ]
  },
  {
   "cell_type": "code",
   "execution_count": 11,
   "metadata": {},
   "outputs": [
    {
     "data": {
      "text/plain": [
       "[Document(id=765cc448ab0ab1e45c67f28053e7a070484a0cccb718ce4c9708e12f8d2e35e2, content: '0001145549-24-032499.txt : 20240529 0001145549-24-032499.hdr.sgml : 20240529 20240529101511 ACCESSIO...', meta: {'filename': '0001145549-24-032499.txt', 'languages': ['eng'], 'filetype': 'text/plain', 'source_url': 'https://www.sec.gov/Archives/edgar/data/1511699/000114554924032499/0001145549-24-032499.txt', 'symbol': 'PSQGX'}, embedding: vector of size 1536),\n",
       " Document(id=68898c29543d7846ef26e0066d105862535af7a85b3b90bf60edc397d26a7199, content: 'ORGANIZATION NAME: IRS NUMBER: 000000000 FILING VALUES: FORM TYPE: NPORT-P SEC ACT: 1940 Act SEC FIL...', meta: {'filename': '0001145549-24-032499.txt', 'languages': ['eng'], 'filetype': 'text/plain', 'source_url': 'https://www.sec.gov/Archives/edgar/data/1511699/000114554924032499/0001145549-24-032499.txt', 'symbol': 'PSQGX'}, embedding: vector of size 1536),\n",
       " Document(id=534501e2c53488982d6ab511dfe67d62fdbaa3f315b553311d6114d9ceda0c41, content: 'S000043754 Port Street Quality Growth Fund  C000135684 Institutional Class Shares PSQGX       NPORT-...', meta: {'filename': '0001145549-24-032499.txt', 'languages': ['eng'], 'filetype': 'text/plain', 'symbol': 'PSQGX', 'source_url': 'https://www.sec.gov/Archives/edgar/data/1511699/000114554924032499/0001145549-24-032499.txt'}, embedding: vector of size 1536),\n",
       " Document(id=43962a7eaa05b6048f5ae647e67aaf9a16ce6e2c899ab167545b76f07bb2fd4e, content: 'NPORT-P false    0001511699 XXXXXXXX', meta: {'filename': '0001145549-24-032499.txt', 'languages': ['eng'], 'filetype': 'text/plain', 'source_url': 'https://www.sec.gov/Archives/edgar/data/1511699/000114554924032499/0001145549-24-032499.txt', 'symbol': 'PSQGX'}, embedding: vector of size 1536),\n",
       " Document(id=7a4e9f2a7704006b1d0af3522c7f59ec2530339653785bcaf8be1c0e72b201c2, content: 'S000043754 C000135684      Managed Portfolio Series 811-22525 0001511699 254900SQ3GG01NP4WM65 615 Ea...', meta: {'filename': '0001145549-24-032499.txt', 'languages': ['eng'], 'filetype': 'text/plain', 'source_url': 'https://www.sec.gov/Archives/edgar/data/1511699/000114554924032499/0001145549-24-032499.txt', 'symbol': 'PSQGX'}, embedding: vector of size 1536),\n",
       " Document(id=89e4fb1d62a128ec3c6ae9990f5fa16a81a53648a8632ae5cf7004e920ac1df4, content: '414-516-1712 Port Street Quality Growth Fund S000043754 254900PJ8RMALGEZLL04 2024-03-31 2024-03-31 N...', meta: {'filename': '0001145549-24-032499.txt', 'languages': ['eng'], 'filetype': 'text/plain', 'source_url': 'https://www.sec.gov/Archives/edgar/data/1511699/000114554924032499/0001145549-24-032499.txt', 'symbol': 'PSQGX'}, embedding: vector of size 1536),\n",
       " Document(id=20f42832b70b11145f8c9dd37d4261f56228a9528db176194c6b42c647112205, content: '0.000000000000 0.000000000000 0.000000000000 0.000000000000 0.000000000000 0.000000000000 0.00000000...', meta: {'filename': '0001145549-24-032499.txt', 'languages': ['eng'], 'filetype': 'text/plain', 'source_url': 'https://www.sec.gov/Archives/edgar/data/1511699/000114554924032499/0001145549-24-032499.txt', 'symbol': 'PSQGX'}, embedding: vector of size 1536),\n",
       " Document(id=4f643076750ee2eb843e3511e5d0a6626349aa85888cf82a22235a3ed002d032, content: '0.000000000000 0.000000000000 0.000000000000 0.000000000000 21437062.430000000000 N', meta: {'filename': '0001145549-24-032499.txt', 'languages': ['eng'], 'filetype': 'text/plain', 'source_url': 'https://www.sec.gov/Archives/edgar/data/1511699/000114554924032499/0001145549-24-032499.txt', 'symbol': 'PSQGX'}, embedding: vector of size 1536),\n",
       " Document(id=b01eec6515e07f4045674aea176c64cd5fa5dbe36307fd47970cde4d6b9b589e, content: 'Adobe Inc FU4LY2G4933NH2E1CP29 Adobe Inc 00724F101     5646.000000000000 NS USD 2848971.600000000000...', meta: {'filename': '0001145549-24-032499.txt', 'languages': ['eng'], 'filetype': 'text/plain', 'source_url': 'https://www.sec.gov/Archives/edgar/data/1511699/000114554924032499/0001145549-24-032499.txt', 'symbol': 'PSQGX'}, embedding: vector of size 1536),\n",
       " Document(id=c9d3bea0d34249169f84773f2b98c635d41761ec1177667413818768c95d6b2f, content: 'Long EC CORP US N 1  N N N    Alphabet Inc 5493006MHB84DD0ZWV18 Alphabet Inc 02079K305', meta: {'filename': '0001145549-24-032499.txt', 'languages': ['eng'], 'filetype': 'text/plain', 'source_url': 'https://www.sec.gov/Archives/edgar/data/1511699/000114554924032499/0001145549-24-032499.txt', 'symbol': 'PSQGX'}, embedding: vector of size 1536),\n",
       " Document(id=b3f419301ad933784e4668b0d64dfeffd98365f666afb6e0e036eae2110bcf4d, content: '67422.000000000000 NS USD 10176002.460000000000 4.4945205375 Long EC CORP US N 1  N', meta: {'filename': '0001145549-24-032499.txt', 'languages': ['eng'], 'filetype': 'text/plain', 'source_url': 'https://www.sec.gov/Archives/edgar/data/1511699/000114554924032499/0001145549-24-032499.txt', 'symbol': 'PSQGX'}, embedding: vector of size 1536),\n",
       " Document(id=63114f11f1e8b040c4f05eaffa5fb1cc35a33f9176bcb34309cac2fa4c1fcfa2, content: 'N N    3M Co LUZQVYP4VS22CLWDAR65 3M Co 88579Y101     31800.000000000000 NS USD 3373026.000000000000...', meta: {'filename': '0001145549-24-032499.txt', 'languages': ['eng'], 'filetype': 'text/plain', 'source_url': 'https://www.sec.gov/Archives/edgar/data/1511699/000114554924032499/0001145549-24-032499.txt', 'symbol': 'PSQGX'}, embedding: vector of size 1536),\n",
       " Document(id=484d8f673155d87f9efe32ef5ad6b962c8d096512dbbb75c29bcd6b559b889a9, content: 'EC CORP US N 1  N N N    Accenture PLC 5493000EWHDSR3MZWH98 Accenture PLC N/A', meta: {'filename': '0001145549-24-032499.txt', 'languages': ['eng'], 'filetype': 'text/plain', 'source_url': 'https://www.sec.gov/Archives/edgar/data/1511699/000114554924032499/0001145549-24-032499.txt', 'symbol': 'PSQGX'}, embedding: vector of size 1536),\n",
       " Document(id=b9df10f757d1dea382cc1b5392ac07c2539ab569305c81098ef1c66363efb807, content: '9056.000000000000 NS USD 3138900.160000000000 1.3863844166 Long EC CORP IE N 1  N N', meta: {'filename': '0001145549-24-032499.txt', 'languages': ['eng'], 'filetype': 'text/plain', 'source_url': 'https://www.sec.gov/Archives/edgar/data/1511699/000114554924032499/0001145549-24-032499.txt', 'symbol': 'PSQGX'}, embedding: vector of size 1536),\n",
       " Document(id=942c16a71425c16c93053996ae940fb2e8f6a3fa9533e8c943760f2a932a89c0, content: 'N    Apple Inc HWUPKR0MPOU8FGXBT394 Apple Inc 037833100     29412.000000000000 NS USD 5043569.760000...', meta: {'filename': '0001145549-24-032499.txt', 'languages': ['eng'], 'filetype': 'text/plain', 'source_url': 'https://www.sec.gov/Archives/edgar/data/1511699/000114554924032499/0001145549-24-032499.txt', 'symbol': 'PSQGX'}, embedding: vector of size 1536),\n",
       " Document(id=43ff00e6f8d669dcef666f2e7738b8a42f928901ecf61b39f775ccfbab8eeeb1, content: 'CORP US N 1  N N N    Becton Dickinson &amp; Co ICE2EP6D98PQUILVRZ91 Becton Dickinson &amp; Co 07588...', meta: {'filename': '0001145549-24-032499.txt', 'languages': ['eng'], 'filetype': 'text/plain', 'source_url': 'https://www.sec.gov/Archives/edgar/data/1511699/000114554924032499/0001145549-24-032499.txt', 'symbol': 'PSQGX'}, embedding: vector of size 1536),\n",
       " Document(id=d7cafe3c98520b775d433f40f0f2a082ed0424b69ab6333e351bc77dba225d4d, content: '7999.000000000000 NS USD 1979352.550000000000 0.8742372775 Long EC CORP US N 1  N N', meta: {'filename': '0001145549-24-032499.txt', 'languages': ['eng'], 'filetype': 'text/plain', 'source_url': 'https://www.sec.gov/Archives/edgar/data/1511699/000114554924032499/0001145549-24-032499.txt', 'symbol': 'PSQGX'}, embedding: vector of size 1536),\n",
       " Document(id=15fee87fedd0b79004bee0bb22f68093ca6780e308702a3ac54ddda9d2e803dd, content: 'N    Berkshire Hathaway Inc 5493000C01ZX7D35SD85 Berkshire Hathaway Inc 084670702     22000.00000000...', meta: {'filename': '0001145549-24-032499.txt', 'languages': ['eng'], 'filetype': 'text/plain', 'source_url': 'https://www.sec.gov/Archives/edgar/data/1511699/000114554924032499/0001145549-24-032499.txt', 'symbol': 'PSQGX'}, embedding: vector of size 1536),\n",
       " Document(id=ad634b243c1b5c1ccb9488f228e3500865e98c37af74a7bdfe4c9bac96941813, content: 'EC CORP US N 1  N N N    Biogen Inc W8J5WZB5IY3K0NDQT671 Biogen Inc 09062X103', meta: {'filename': '0001145549-24-032499.txt', 'languages': ['eng'], 'filetype': 'text/plain', 'source_url': 'https://www.sec.gov/Archives/edgar/data/1511699/000114554924032499/0001145549-24-032499.txt', 'symbol': 'PSQGX'}, embedding: vector of size 1536),\n",
       " Document(id=0532094f125409a7cb8d7ac646fe042b4b1a1872d7e44bd50ff0a20c0aa0e0d0, content: '13600.000000000000 NS USD 2932568.000000000000 1.2952519573 Long EC CORP US N 1  N N', meta: {'filename': '0001145549-24-032499.txt', 'languages': ['eng'], 'filetype': 'text/plain', 'source_url': 'https://www.sec.gov/Archives/edgar/data/1511699/000114554924032499/0001145549-24-032499.txt', 'symbol': 'PSQGX'}, embedding: vector of size 1536),\n",
       " Document(id=24d774d8a577dff9ac59697c5940108523b92bf5f03684d5ca069f74a68fe9c0, content: 'N    CH Robinson Worldwide Inc 529900WNWN5L0OVDHA79 CH Robinson Worldwide Inc 12541W209     40000.00...', meta: {'filename': '0001145549-24-032499.txt', 'languages': ['eng'], 'filetype': 'text/plain', 'source_url': 'https://www.sec.gov/Archives/edgar/data/1511699/000114554924032499/0001145549-24-032499.txt', 'symbol': 'PSQGX'}, embedding: vector of size 1536),\n",
       " Document(id=0604585874b93aecf285c0827afbc707533111fa72a187b81579a279d919a02d, content: 'EC CORP US N 1  N N N    Cisco Systems Inc 549300LKFJ962MZ46593 Cisco Systems Inc 17275R102', meta: {'filename': '0001145549-24-032499.txt', 'languages': ['eng'], 'filetype': 'text/plain', 'source_url': 'https://www.sec.gov/Archives/edgar/data/1511699/000114554924032499/0001145549-24-032499.txt', 'symbol': 'PSQGX'}, embedding: vector of size 1536),\n",
       " Document(id=40b1b03b9043252ac82b6af6045c59a223b95016ce81b1112bc6e56c90c3dcf2, content: '60952.000000000000 NS USD 3042114.320000000000 1.3436362012 Long EC CORP US N 1  N', meta: {'filename': '0001145549-24-032499.txt', 'languages': ['eng'], 'filetype': 'text/plain', 'source_url': 'https://www.sec.gov/Archives/edgar/data/1511699/000114554924032499/0001145549-24-032499.txt', 'symbol': 'PSQGX'}, embedding: vector of size 1536),\n",
       " Document(id=fd4ab13aa555af1fadc4ddebb82ef12f281b619c7f910633fc3b37f16d2f3fbf, content: 'N N    Diageo PLC 213800ZVIELEA55JMJ32 Diageo PLC 25243Q205     24293.000000000000 NS USD 3613340.82...', meta: {'filename': '0001145549-24-032499.txt', 'languages': ['eng'], 'filetype': 'text/plain', 'source_url': 'https://www.sec.gov/Archives/edgar/data/1511699/000114554924032499/0001145549-24-032499.txt', 'symbol': 'PSQGX'}, embedding: vector of size 1536),\n",
       " Document(id=7987b69d9021873a7f7eb47507829ce6a6edd0c55261146912c65274fc5353d4, content: 'Long EC CORP GB N 1  N N N    General Dynamics Corp 9C1X8XOOTYY2FNYTVH06 General Dynamics Corp', meta: {'filename': '0001145549-24-032499.txt', 'languages': ['eng'], 'filetype': 'text/plain', 'source_url': 'https://www.sec.gov/Archives/edgar/data/1511699/000114554924032499/0001145549-24-032499.txt', 'symbol': 'PSQGX'}, embedding: vector of size 1536),\n",
       " Document(id=42eb82a901c680e4e1541e6e03ee8c9a2556d100172cddabbc00eb588f0ed798, content: '369550108     20620.000000000000 NS USD 5824943.800000000000 2.5727518878 Long EC CORP US N 1', meta: {'filename': '0001145549-24-032499.txt', 'languages': ['eng'], 'filetype': 'text/plain', 'source_url': 'https://www.sec.gov/Archives/edgar/data/1511699/000114554924032499/0001145549-24-032499.txt', 'symbol': 'PSQGX'}, embedding: vector of size 1536),\n",
       " Document(id=03fd31042378aa4672f3cb46164c55a2d7405c39b6c4b8ea4526d0863606f6c8, content: 'N N N    Home Depot Inc/The QEKMOTMBBKA8I816DO57 Home Depot Inc/The 437076102     11700.000000000000...', meta: {'filename': '0001145549-24-032499.txt', 'languages': ['eng'], 'filetype': 'text/plain', 'source_url': 'https://www.sec.gov/Archives/edgar/data/1511699/000114554924032499/0001145549-24-032499.txt', 'symbol': 'PSQGX'}, embedding: vector of size 1536),\n",
       " Document(id=e3151f7b3241409ab23185768cf385129b95feb4a89244050af2a905702ea07f, content: '1.9823056838 Long EC CORP US N 1  N N N    Johnson &amp; Johnson 549300G0CFPGEF6X2043', meta: {'filename': '0001145549-24-032499.txt', 'languages': ['eng'], 'filetype': 'text/plain', 'source_url': 'https://www.sec.gov/Archives/edgar/data/1511699/000114554924032499/0001145549-24-032499.txt', 'symbol': 'PSQGX'}, embedding: vector of size 1536),\n",
       " Document(id=de1eed38386d2b92e877acdb93aec54f05aa24a3acd82993e70c7c301511b8a2, content: 'Johnson &amp; Johnson 478160104     21800.000000000000 NS USD 3448542.000000000000 1.5231465307 Long...', meta: {'filename': '0001145549-24-032499.txt', 'languages': ['eng'], 'filetype': 'text/plain', 'source_url': 'https://www.sec.gov/Archives/edgar/data/1511699/000114554924032499/0001145549-24-032499.txt', 'symbol': 'PSQGX'}, embedding: vector of size 1536),\n",
       " Document(id=315b41ee7b2513b860dd6cc2e4333bbfd67d3ef6f56402f840ddf6e016a8df9c, content: 'N N N    Microsoft Corp INR2EJN1ERAN0W5ZP974 Microsoft Corp 594918104     22470.000000000000 NS USD', meta: {'filename': '0001145549-24-032499.txt', 'languages': ['eng'], 'filetype': 'text/plain', 'source_url': 'https://www.sec.gov/Archives/edgar/data/1511699/000114554924032499/0001145549-24-032499.txt', 'symbol': 'PSQGX'}, embedding: vector of size 1536),\n",
       " Document(id=939daf24f9ece022d061003a3e6d92fe7ed21d42d99f88c290aa294f0db6b9a5, content: '9453578.400000000000 4.1754414308 Long EC CORP US N 1  N N N    NIKE Inc 787RXPR0UX0O0XUXPZ81', meta: {'filename': '0001145549-24-032499.txt', 'languages': ['eng'], 'filetype': 'text/plain', 'source_url': 'https://www.sec.gov/Archives/edgar/data/1511699/000114554924032499/0001145549-24-032499.txt', 'symbol': 'PSQGX'}, embedding: vector of size 1536),\n",
       " Document(id=67e2e1c2a9738c8d91b0064d83ac2b0aa964d8893130b980ea087cbde6f98a12, content: 'NIKE Inc 654106103     47900.000000000000 NS USD 4501642.000000000000 1.9882780592 Long EC CORP US N...', meta: {'filename': '0001145549-24-032499.txt', 'languages': ['eng'], 'filetype': 'text/plain', 'source_url': 'https://www.sec.gov/Archives/edgar/data/1511699/000114554924032499/0001145549-24-032499.txt', 'symbol': 'PSQGX'}, embedding: vector of size 1536),\n",
       " Document(id=e8d03dff6039a21a3b40608e301713e2d00b70eb6d08be626b025506e931ed10, content: 'N N N    Novo Nordisk A/S 549300DAQ1CVT6CXN342 Novo Nordisk A/S 670100205     65600.000000000000 NS ...', meta: {'filename': '0001145549-24-032499.txt', 'languages': ['eng'], 'filetype': 'text/plain', 'source_url': 'https://www.sec.gov/Archives/edgar/data/1511699/000114554924032499/0001145549-24-032499.txt', 'symbol': 'PSQGX'}, embedding: vector of size 1536),\n",
       " Document(id=72baf593720c57ad3758e8c89bb942be533961ce37f41c58e6ac369649c43a7e, content: '3.7202748738 Long EC CORP DK N 1  N N N    Oracle Corp 1Z4GXXU7ZHVWFCD8TV52 Oracle Corp', meta: {'filename': '0001145549-24-032499.txt', 'languages': ['eng'], 'filetype': 'text/plain', 'source_url': 'https://www.sec.gov/Archives/edgar/data/1511699/000114554924032499/0001145549-24-032499.txt', 'symbol': 'PSQGX'}, embedding: vector of size 1536),\n",
       " Document(id=b9cdb5961b559bac612c8dd2db89944b14b8c2db5a7735a4e5d0455e1f4f24ea, content: '68389X105     54323.000000000000 NS USD 6823512.030000000000 3.0137979110 Long EC CORP US N 1', meta: {'filename': '0001145549-24-032499.txt', 'languages': ['eng'], 'filetype': 'text/plain', 'source_url': 'https://www.sec.gov/Archives/edgar/data/1511699/000114554924032499/0001145549-24-032499.txt', 'symbol': 'PSQGX'}, embedding: vector of size 1536),\n",
       " Document(id=5ad6ba0f52bb701885fceb41d2bb5b0cf96abd8fda6679044cc1c42a47188754, content: 'N N N    PepsiCo Inc FJSUNZKFNQ5YPJ5OT455 PepsiCo Inc 713448108     13354.000000000000 NS USD 233708...', meta: {'filename': '0001145549-24-032499.txt', 'languages': ['eng'], 'filetype': 'text/plain', 'source_url': 'https://www.sec.gov/Archives/edgar/data/1511699/000114554924032499/0001145549-24-032499.txt', 'symbol': 'PSQGX'}, embedding: vector of size 1536),\n",
       " Document(id=b8c720cf9fd64ae3e7cbca6541499026d7b4e19b45ffe0ce9253f35a4e44019c, content: '1.0322393307 Long EC CORP US N 1  N N N    Procter &amp; Gamble Co/The 2572IBTT8CCZW6AU4141', meta: {'filename': '0001145549-24-032499.txt', 'languages': ['eng'], 'filetype': 'text/plain', 'source_url': 'https://www.sec.gov/Archives/edgar/data/1511699/000114554924032499/0001145549-24-032499.txt', 'symbol': 'PSQGX'}, embedding: vector of size 1536),\n",
       " Document(id=2afcd34a7e79e3be59decb7e086f8a7e055e7c5f52cc82e6c89d6d5950f67301, content: 'Procter &amp; Gamble Co/The 742718109     15700.000000000000 NS USD 2547325.000000000000 1.125098443...', meta: {'filename': '0001145549-24-032499.txt', 'languages': ['eng'], 'filetype': 'text/plain', 'source_url': 'https://www.sec.gov/Archives/edgar/data/1511699/000114554924032499/0001145549-24-032499.txt', 'symbol': 'PSQGX'}, embedding: vector of size 1536),\n",
       " Document(id=f5ea11b7a2a4da9af256f9db98195c7eb9dd2e8cd39333e24fc8c7011df9f16b, content: 'N N N    RTX Corp I07WOS4YJ0N7YRFE7309 RTX Corp 75513E101     109700.000000000000 NS USD 10699041.00...', meta: {'filename': '0001145549-24-032499.txt', 'languages': ['eng'], 'filetype': 'text/plain', 'source_url': 'https://www.sec.gov/Archives/edgar/data/1511699/000114554924032499/0001145549-24-032499.txt', 'symbol': 'PSQGX'}, embedding: vector of size 1536),\n",
       " Document(id=37b12eed371bdb22382fdc646505691671835adc89d2c25cb12458e8cc511230, content: '4.7255353657 Long EC CORP US N 1  N N N    Roche Holding AG 549300U41AUUVOAAOB37', meta: {'filename': '0001145549-24-032499.txt', 'languages': ['eng'], 'filetype': 'text/plain', 'source_url': 'https://www.sec.gov/Archives/edgar/data/1511699/000114554924032499/0001145549-24-032499.txt', 'symbol': 'PSQGX'}, embedding: vector of size 1536),\n",
       " Document(id=5325317c4bc1f6c93334692f60fec69d0277a93d1c6886fada7cf1bccfb640ae, content: 'Roche Holding AG 771195104     164400.000000000000 NS USD 5247648.000000000000 2.3177727995 Long EC ...', meta: {'filename': '0001145549-24-032499.txt', 'languages': ['eng'], 'filetype': 'text/plain', 'source_url': 'https://www.sec.gov/Archives/edgar/data/1511699/000114554924032499/0001145549-24-032499.txt', 'symbol': 'PSQGX'}, embedding: vector of size 1536),\n",
       " Document(id=30dc3315bfd9da7b3abe4f1c42a445c8c0b4443c9cb90824a0b5287f40eef6ea, content: 'N N N    Starbucks Corp OQSJ1DU9TAOC51A47K68 Starbucks Corp 855244109     38200.000000000000 NS USD', meta: {'filename': '0001145549-24-032499.txt', 'languages': ['eng'], 'filetype': 'text/plain', 'source_url': 'https://www.sec.gov/Archives/edgar/data/1511699/000114554924032499/0001145549-24-032499.txt', 'symbol': 'PSQGX'}, embedding: vector of size 1536),\n",
       " Document(id=d0ae73830dd02ea52ac8b4377acf0dcd984f1ac2c6e1d974546c61d911eeb794, content: '3491098.000000000000 1.5419425969 Long EC CORP US N 1  N N N    TREASURY BILL', meta: {'filename': '0001145549-24-032499.txt', 'languages': ['eng'], 'filetype': 'text/plain', 'source_url': 'https://www.sec.gov/Archives/edgar/data/1511699/000114554924032499/0001145549-24-032499.txt', 'symbol': 'PSQGX'}, embedding: vector of size 1536),\n",
       " Document(id=9f99f28954df13cf208b11501a512c1bd080bd16d4bf58a3b921e5262c49b5fb, content: '254900HROIFWPRGM1V77 United States Treasury Bill 912796ZW2    10000000.000000000000 PA USD 9884188.9...', meta: {'filename': '0001145549-24-032499.txt', 'languages': ['eng'], 'filetype': 'text/plain', 'source_url': 'https://www.sec.gov/Archives/edgar/data/1511699/000114554924032499/0001145549-24-032499.txt', 'symbol': 'PSQGX'}, embedding: vector of size 1536),\n",
       " Document(id=b50bd3d67364bd9780b9476e165d19c0d84f423110ea0fc4e40eb6d1ecf83da2, content: '2  2024-06-20 Fixed .000000000000 N N N   N N N    TREASURY BILL', meta: {'filename': '0001145549-24-032499.txt', 'languages': ['eng'], 'filetype': 'text/plain', 'source_url': 'https://www.sec.gov/Archives/edgar/data/1511699/000114554924032499/0001145549-24-032499.txt', 'symbol': 'PSQGX'}, embedding: vector of size 1536),\n",
       " Document(id=d9138e20d723a39c54eb8727da0e86f162a496036cb267080082a960174bc007, content: '254900HROIFWPRGM1V77 United States Treasury Bill 912797HG5    15000000.000000000000 PA USD 14947481....', meta: {'filename': '0001145549-24-032499.txt', 'languages': ['eng'], 'filetype': 'text/plain', 'source_url': 'https://www.sec.gov/Archives/edgar/data/1511699/000114554924032499/0001145549-24-032499.txt', 'symbol': 'PSQGX'}, embedding: vector of size 1536),\n",
       " Document(id=a65664ad005d0790d159d9ac6e133d5f487d88062a88c99800247df351adaa4a, content: '2  2024-04-25 Fixed .000000000000 N N N   N N N    Medtronic PLC', meta: {'filename': '0001145549-24-032499.txt', 'languages': ['eng'], 'filetype': 'text/plain', 'source_url': 'https://www.sec.gov/Archives/edgar/data/1511699/000114554924032499/0001145549-24-032499.txt', 'symbol': 'PSQGX'}, embedding: vector of size 1536),\n",
       " Document(id=2f304a4b8e30ba8951ed9c00a810251a16ebded7481a45699a696028afb92ce6, content: '549300GX3ZBSQWUXY261 Medtronic PLC N/A     83200.000000000000 NS USD 7250880.000000000000 3.20255711...', meta: {'filename': '0001145549-24-032499.txt', 'languages': ['eng'], 'filetype': 'text/plain', 'source_url': 'https://www.sec.gov/Archives/edgar/data/1511699/000114554924032499/0001145549-24-032499.txt', 'symbol': 'PSQGX'}, embedding: vector of size 1536),\n",
       " Document(id=97f61e2f2884018822bed151e234bccfd3c8935f6c5e8e6a0de01d2aed8e960c, content: '1  N N N    Walt Disney Co/The 549300GZKULIZ0WOW665 Walt Disney Co/The 254687106     84050.000000000...', meta: {'filename': '0001145549-24-032499.txt', 'languages': ['eng'], 'filetype': 'text/plain', 'source_url': 'https://www.sec.gov/Archives/edgar/data/1511699/000114554924032499/0001145549-24-032499.txt', 'symbol': 'PSQGX'}, embedding: vector of size 1536),\n",
       " Document(id=4fff62aa2a8aa637b28ea7e4177408e0a1b5ba44d9b13c9e58b5843cedafaaf5, content: 'USD 10284358.000000000000 4.5423788396 Long EC CORP US N 1  N N N    Unilever PLC', meta: {'filename': '0001145549-24-032499.txt', 'languages': ['eng'], 'filetype': 'text/plain', 'source_url': 'https://www.sec.gov/Archives/edgar/data/1511699/000114554924032499/0001145549-24-032499.txt', 'symbol': 'PSQGX'}, embedding: vector of size 1536),\n",
       " Document(id=1d030a51e4b6031cf11f7fbef6869eb500469ae198b0bed8cda43ff4e623cd6e, content: '549300MKFYEKVRWML317 Unilever PLC 904767704     162720.000000000000 NS USD 8166916.800000000000 3.60...', meta: {'filename': '0001145549-24-032499.txt', 'languages': ['eng'], 'filetype': 'text/plain', 'source_url': 'https://www.sec.gov/Archives/edgar/data/1511699/000114554924032499/0001145549-24-032499.txt', 'symbol': 'PSQGX'}, embedding: vector of size 1536),\n",
       " Document(id=fe145b8a992d9a6d68620683ded906fff0b1d356dde995384905ee237f49568f, content: '1  N N N    Visa Inc 549300JZ4OKEHW3DPJ59 Visa Inc 92826C839     14807.000000000000 NS USD', meta: {'filename': '0001145549-24-032499.txt', 'languages': ['eng'], 'filetype': 'text/plain', 'source_url': 'https://www.sec.gov/Archives/edgar/data/1511699/000114554924032499/0001145549-24-032499.txt', 'symbol': 'PSQGX'}, embedding: vector of size 1536),\n",
       " Document(id=dbeeb4dbdaaf38cfa664edf01ba504950d3cfa9354f323a2a9a938aa02faacd5, content: '4132337.560000000000 1.8251642631 Long EC CORP US N 1  N N N    Walmart Inc', meta: {'filename': '0001145549-24-032499.txt', 'languages': ['eng'], 'filetype': 'text/plain', 'source_url': 'https://www.sec.gov/Archives/edgar/data/1511699/000114554924032499/0001145549-24-032499.txt', 'symbol': 'PSQGX'}, embedding: vector of size 1536),\n",
       " Document(id=816ecc21ea422bc2e5939faabc0e843b0a40aa29eed41fe5fc4c04e56a6573e5, content: 'Y87794H0US1R65VBXU25 Walmart Inc 931142103     72000.000000000000 NS USD 4332240.000000000000 1.9134...', meta: {'filename': '0001145549-24-032499.txt', 'languages': ['eng'], 'filetype': 'text/plain', 'source_url': 'https://www.sec.gov/Archives/edgar/data/1511699/000114554924032499/0001145549-24-032499.txt', 'symbol': 'PSQGX'}, embedding: vector of size 1536),\n",
       " Document(id=826a6e81c407bf98ea328eacb80af79123a924e89f4bab79e28096b4076d746f, content: '1  N N N    TREASURY BILL 254900HROIFWPRGM1V77 United States Treasury Bill 912797HR1    15000000.000...', meta: {'filename': '0001145549-24-032499.txt', 'languages': ['eng'], 'filetype': 'text/plain', 'source_url': 'https://www.sec.gov/Archives/edgar/data/1511699/000114554924032499/0001145549-24-032499.txt', 'symbol': 'PSQGX'}, embedding: vector of size 1536),\n",
       " Document(id=de9091dd73f0a4065326911cb46114c965af243a760b43e206b3372449d6c369, content: '14886510.000000000000 6.5750499953 Long DBT UST US N 2  2024-05-23 Fixed .000000000000 N N N', meta: {'filename': '0001145549-24-032499.txt', 'languages': ['eng'], 'filetype': 'text/plain', 'source_url': 'https://www.sec.gov/Archives/edgar/data/1511699/000114554924032499/0001145549-24-032499.txt', 'symbol': 'PSQGX'}, embedding: vector of size 1536),\n",
       " Document(id=748af7ca574a14240af9e4d5643b0b1a596a8239969aa1fbae4095a20040ca31, content: 'N N N    TREASURY BILL 254900HROIFWPRGM1V77 United States Treasury Bill 912797JS7    10000000.000000...', meta: {'filename': '0001145549-24-032499.txt', 'languages': ['eng'], 'filetype': 'text/plain', 'source_url': 'https://www.sec.gov/Archives/edgar/data/1511699/000114554924032499/0001145549-24-032499.txt', 'symbol': 'PSQGX'}, embedding: vector of size 1536),\n",
       " Document(id=f2a3fa3bfaa900f19380644a64373a1a47e4102ed3f4cd02f9566e4fd739ec61, content: '4.3484387352 Long DBT UST US N 2  2024-07-18 Fixed .000000000000 N N N', meta: {'filename': '0001145549-24-032499.txt', 'languages': ['eng'], 'filetype': 'text/plain', 'source_url': 'https://www.sec.gov/Archives/edgar/data/1511699/000114554924032499/0001145549-24-032499.txt', 'symbol': 'PSQGX'}, embedding: vector of size 1536),\n",
       " Document(id=52dc403fb1667e211ae0d60502321c3b32efee86e0f74e946924d3ce2eb74cff, content: 'N N N    TREASURY BILL 254900HROIFWPRGM1V77 United States Treasury Bill 912797KC0    5000000.0000000...', meta: {'filename': '0001145549-24-032499.txt', 'languages': ['eng'], 'filetype': 'text/plain', 'source_url': 'https://www.sec.gov/Archives/edgar/data/1511699/000114554924032499/0001145549-24-032499.txt', 'symbol': 'PSQGX'}, embedding: vector of size 1536),\n",
       " Document(id=1a3fc109b3ba9fd463a137cdd32a428cd93aca8839d1e971a3b8fe15f22ba10c, content: '2.1634212140 Long DBT UST US N 2  2024-08-22 Fixed .000000000000 N N N', meta: {'filename': '0001145549-24-032499.txt', 'languages': ['eng'], 'filetype': 'text/plain', 'source_url': 'https://www.sec.gov/Archives/edgar/data/1511699/000114554924032499/0001145549-24-032499.txt', 'symbol': 'PSQGX'}, embedding: vector of size 1536),\n",
       " Document(id=439af36db50511fa05bf7b737d7ef183af9cbdcc3c5beb24dcdb412fa6b6e3e3, content: 'N N N     2024-05-28 Managed Portfolio Series /s/ Benjamin Eirich Managed Portfolio Series Treasurer...', meta: {'filename': '0001145549-24-032499.txt', 'languages': ['eng'], 'filetype': 'text/plain', 'source_url': 'https://www.sec.gov/Archives/edgar/data/1511699/000114554924032499/0001145549-24-032499.txt', 'symbol': 'PSQGX'}, embedding: vector of size 1536)]"
      ]
     },
     "execution_count": 11,
     "metadata": {},
     "output_type": "execute_result"
    }
   ],
   "source": [
    "result['embedder']['documents']\n"
   ]
  },
  {
   "cell_type": "markdown",
   "metadata": {},
   "source": []
  },
  {
   "cell_type": "code",
   "execution_count": null,
   "metadata": {},
   "outputs": [],
   "source": []
  }
 ],
 "metadata": {
  "kernelspec": {
   "display_name": "msflow",
   "language": "python",
   "name": "python3"
  },
  "language_info": {
   "codemirror_mode": {
    "name": "ipython",
    "version": 3
   },
   "file_extension": ".py",
   "mimetype": "text/x-python",
   "name": "python",
   "nbconvert_exporter": "python",
   "pygments_lexer": "ipython3",
   "version": "3.10.14"
  }
 },
 "nbformat": 4,
 "nbformat_minor": 2
}
